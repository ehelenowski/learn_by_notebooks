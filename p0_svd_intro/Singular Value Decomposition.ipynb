{
 "cells": [
  {
   "cell_type": "markdown",
   "metadata": {},
   "source": [
    "# Singular Value Decomposition"
   ]
  },
  {
   "cell_type": "markdown",
   "metadata": {},
   "source": [
    "If a square matrix, X, is diagonalizable (ie. an n x n matrix has n linearly independent eigenvectors), then it has what is known as an eigendecomposition:\n",
    "\n",
    "\\begin{equation*}\n",
    "\\mathbf{X}_{nxn} = \\mathbf{P}_{nxn} \\times \\mathbf{D}_{nxn} \\times \\mathbf{P}^{-1}_{nxn}\n",
    "\\end{equation*}\n",
    "\n",
    "Here, the columns of P are the eigenvectors of X, with their corresponding eigenvalues as the diagonal of D. Since P is an orthonormal matrix, it can be written:\n",
    "\n",
    "\\begin{equation*}\n",
    "\\mathbf{X}_{nxn} = \\mathbf{P}_{nxn} \\times \\mathbf{D}_{nxn} \\times \\mathbf{P}^{T}_{nxn}\n",
    "\\end{equation*}\n",
    "\n",
    "There exist several other forms of matrix decomposition such as QR decomposition or LU factorization. The singular value decomposition of a matrix, X, is a generalization of matrix decomposition that can be applied to any (including non-square) matricies, written in the form:\n",
    "\n",
    "\\begin{equation*}\n",
    "\\mathbf{X}_{nxm} = \\mathbf{U}_{nxn} \\times \\mathbf{\\Sigma}_{nxm} \\times \\mathbf{V}^{T}_{mxm}\n",
    "\\end{equation*}"
   ]
  },
  {
   "cell_type": "code",
   "execution_count": 1,
   "metadata": {},
   "outputs": [],
   "source": [
    "import numpy as np\n",
    "import numpy.linalg as la"
   ]
  },
  {
   "cell_type": "code",
   "execution_count": 2,
   "metadata": {},
   "outputs": [],
   "source": [
    "np.random.seed(0)"
   ]
  },
  {
   "cell_type": "markdown",
   "metadata": {},
   "source": [
    "Let's start by generating a random matrix"
   ]
  },
  {
   "cell_type": "code",
   "execution_count": 3,
   "metadata": {},
   "outputs": [],
   "source": [
    "X = np.random.rand(10, 5)*10"
   ]
  },
  {
   "cell_type": "code",
   "execution_count": 4,
   "metadata": {},
   "outputs": [
    {
     "data": {
      "text/plain": [
       "array([[5.48813504, 7.15189366, 6.02763376, 5.44883183, 4.23654799],\n",
       "       [6.45894113, 4.37587211, 8.91773001, 9.63662761, 3.83441519],\n",
       "       [7.91725038, 5.2889492 , 5.68044561, 9.25596638, 0.71036058],\n",
       "       [0.871293  , 0.20218397, 8.32619846, 7.78156751, 8.70012148],\n",
       "       [9.78618342, 7.99158564, 4.61479362, 7.80529176, 1.18274426],\n",
       "       [6.39921021, 1.43353287, 9.44668917, 5.21848322, 4.1466194 ],\n",
       "       [2.64555612, 7.74233689, 4.56150332, 5.68433949, 0.187898  ],\n",
       "       [6.17635497, 6.12095723, 6.16933997, 9.43748079, 6.81820299],\n",
       "       [3.59507901, 4.37031954, 6.97631196, 0.60225472, 6.66766715],\n",
       "       [6.7063787 , 2.10382561, 1.28926298, 3.15428351, 3.63710771]])"
      ]
     },
     "execution_count": 4,
     "metadata": {},
     "output_type": "execute_result"
    }
   ],
   "source": [
    "X"
   ]
  },
  {
   "cell_type": "markdown",
   "metadata": {},
   "source": [
    "From here we can easily use a linear algebra library to compute the SVD decomposition"
   ]
  },
  {
   "cell_type": "code",
   "execution_count": 5,
   "metadata": {},
   "outputs": [],
   "source": [
    "u, s, vt = la.svd(X)"
   ]
  },
  {
   "cell_type": "code",
   "execution_count": 6,
   "metadata": {},
   "outputs": [
    {
     "name": "stdout",
     "output_type": "stream",
     "text": [
      "Shape of U: (10, 10)\n",
      "[[-0.31808548  0.07010396 -0.32968818 -0.20815326  0.03691277 -0.02946223\n",
      "  -0.25638887 -0.46442258 -0.58817451 -0.33508442]\n",
      " [-0.39389315 -0.05336169  0.31509607 -0.00527192 -0.21680262 -0.75122741\n",
      "   0.31358241  0.10104013 -0.09260469 -0.11925904]\n",
      " [-0.34811653  0.3079775   0.34400872  0.11394361 -0.10649223  0.32986776\n",
      "   0.05509008 -0.32520012  0.46238299 -0.45814648]\n",
      " [-0.29454003 -0.66054805  0.30903705 -0.16418078  0.24752302  0.04648673\n",
      "  -0.2394105  -0.32836927  0.16263075  0.31534429]\n",
      " [-0.36601696  0.4769409  -0.08382718  0.15530076  0.04631442 -0.20468167\n",
      "  -0.58210152  0.13210523  0.16860938  0.42267119]\n",
      " [-0.3135048  -0.23949071  0.04253854  0.38383416 -0.59753613  0.40323796\n",
      "  -0.02800053  0.22059419 -0.32276126  0.14815472]\n",
      " [-0.2430838   0.27000639 -0.05134591 -0.64772875 -0.15503673  0.23960138\n",
      "   0.41862828 -0.02566453 -0.00955963  0.43401955]\n",
      " [-0.3932126  -0.06265564  0.01596145 -0.10592092  0.53700403  0.22321976\n",
      "   0.04292737  0.63470004 -0.106922   -0.27507182]\n",
      " [-0.23430626 -0.30265949 -0.72749455 -0.02440637 -0.18385854 -0.10738062\n",
      "   0.07998534  0.05306326  0.50093235 -0.13480608]\n",
      " [-0.18674014  0.08833869 -0.1928685   0.56026022  0.41667457  0.02353036\n",
      "   0.50245622 -0.29679785 -0.10083375  0.28520971]]\n",
      "Shape of S: (5,)\n",
      "[39.45197377 12.11383468  6.97052559  6.30369226  5.11348667]\n",
      "Shape of VT: (5, 5)\n",
      "[[-0.457698   -0.37968881 -0.50493055 -0.54138922 -0.31351523]\n",
      " [ 0.4019739   0.47891457 -0.41420274  0.09006533 -0.65527258]\n",
      " [-0.1829935  -0.51517818 -0.0135855   0.74727999 -0.37748228]\n",
      " [ 0.7710481  -0.59365513 -0.11656918 -0.17794927  0.08834084]\n",
      " [-0.03045884  0.09296378 -0.74813655  0.32968565  0.56747606]]\n"
     ]
    }
   ],
   "source": [
    "print(f\"Shape of U: {u.shape}\\n{u}\")\n",
    "print(f\"Shape of S: {s.shape}\\n{s}\")\n",
    "print(f\"Shape of VT: {vt.shape}\\n{vt}\")"
   ]
  },
  {
   "cell_type": "markdown",
   "metadata": {},
   "source": [
    "Let's transform s (a single vector) into the diagonal matrix we're looking for."
   ]
  },
  {
   "cell_type": "code",
   "execution_count": 7,
   "metadata": {},
   "outputs": [],
   "source": [
    "# Eigenvectors of covariance matrix\n",
    "sigma = np.diag(s)\n",
    "\n",
    "add_rows = max(u.shape[0] - vt.shape[0], 0)\n",
    "add_columns = max(vt.shape[0] - u.shape[0], 0)\n",
    "\n",
    "# Fix n\n",
    "sigma = np.concatenate(\n",
    "    (sigma, np.zeros((add_rows, sigma.shape[1]))),\n",
    "    axis=0\n",
    ")\n",
    "# Fix m\n",
    "sigma = np.concatenate(\n",
    "    (sigma, np.zeros((sigma.shape[0], add_columns))),\n",
    "    axis=1\n",
    ")"
   ]
  },
  {
   "cell_type": "code",
   "execution_count": 8,
   "metadata": {},
   "outputs": [
    {
     "name": "stdout",
     "output_type": "stream",
     "text": [
      "Shape of sigma: (10, 5)\n",
      "[[39.45197377  0.          0.          0.          0.        ]\n",
      " [ 0.         12.11383468  0.          0.          0.        ]\n",
      " [ 0.          0.          6.97052559  0.          0.        ]\n",
      " [ 0.          0.          0.          6.30369226  0.        ]\n",
      " [ 0.          0.          0.          0.          5.11348667]\n",
      " [ 0.          0.          0.          0.          0.        ]\n",
      " [ 0.          0.          0.          0.          0.        ]\n",
      " [ 0.          0.          0.          0.          0.        ]\n",
      " [ 0.          0.          0.          0.          0.        ]\n",
      " [ 0.          0.          0.          0.          0.        ]]\n"
     ]
    }
   ],
   "source": [
    "print(f\"Shape of sigma: {sigma.shape}\\n{sigma}\")"
   ]
  },
  {
   "cell_type": "markdown",
   "metadata": {},
   "source": [
    "Note that $\\Sigma$ is a diagonal matrix of the form:\n",
    "\n",
    "\\begin{equation*}\n",
    "\\Sigma = \\begin{bmatrix} \n",
    "    \\sigma_{0} & 0          & \\dots  & \\dots & 0 & \\dots \\\\\n",
    "    0          & \\sigma_{1} & 0      & \\dots & 0 & \\dots \\\\\n",
    "    \\vdots     & \\ddots     & \\ddots & \\ddots & 0 & \\dots \\\\\n",
    "    \\vdots      & \\ddots      & \\ddots  & \\ddots & \\sigma_{k-1} & \\dots\\\\\n",
    "    \\vdots      & \\ddots      & \\ddots  & \\ddots & \\ddots & \\ddots \\\\\n",
    "    \\end{bmatrix}\n",
    "\\end{equation*}\n",
    "\n",
    "Such that:\n",
    "\n",
    "\\begin{equation*}\n",
    "\\sigma_{0} > \\sigma_{1} > ... > \\sigma_{k-1}\n",
    "\\end{equation*}\n",
    "\n",
    "Now that we've reconstructed $\\Sigma$, we can easily reconstruct the original matrix."
   ]
  },
  {
   "cell_type": "code",
   "execution_count": 9,
   "metadata": {},
   "outputs": [],
   "source": [
    "def check_two_matricies_almost_equal(x, y, eps=1e-10):\n",
    "    return np.sum((np.abs(x - y) < eps)) == np.multiply(*list(x.shape))"
   ]
  },
  {
   "cell_type": "code",
   "execution_count": 10,
   "metadata": {},
   "outputs": [],
   "source": [
    "X_reconstructed = u @ sigma @ vt"
   ]
  },
  {
   "cell_type": "code",
   "execution_count": 11,
   "metadata": {},
   "outputs": [
    {
     "data": {
      "text/plain": [
       "True"
      ]
     },
     "execution_count": 11,
     "metadata": {},
     "output_type": "execute_result"
    }
   ],
   "source": [
    "check_two_matricies_almost_equal(X, X_reconstructed)"
   ]
  },
  {
   "cell_type": "markdown",
   "metadata": {},
   "source": [
    "Note that U and V are orthonormal matricies."
   ]
  },
  {
   "cell_type": "code",
   "execution_count": 12,
   "metadata": {},
   "outputs": [],
   "source": [
    "def check_number_almost_equal(x, y, eps=1e-10):\n",
    "    return (np.abs(x-y) < eps)\n",
    "\n",
    "def show_orthonormality(x):\n",
    "    for col in range(x.shape[1]):\n",
    "        self_dot = x[:, col] @ x[:, col].T\n",
    "        equal_one = check_number_almost_equal(self_dot, 1.0)\n",
    "        print(f\"Column {col}: Dot Product With Itself = 1 Is {equal_one}\")\n",
    "        for other_col in range(col+1, x.shape[1]):\n",
    "            other_dot = x[:, col] @ x[:, other_col].T\n",
    "            equal_zero = check_number_almost_equal(other_dot, 0.0)\n",
    "            print(f\"Column {col}: Dot Product With {other_col} = 0 Is {equal_zero}\")"
   ]
  },
  {
   "cell_type": "code",
   "execution_count": 13,
   "metadata": {},
   "outputs": [
    {
     "name": "stdout",
     "output_type": "stream",
     "text": [
      "MATRIX U: [[-0.31808548  0.07010396 -0.32968818 -0.20815326  0.03691277 -0.02946223\n",
      "  -0.25638887 -0.46442258 -0.58817451 -0.33508442]\n",
      " [-0.39389315 -0.05336169  0.31509607 -0.00527192 -0.21680262 -0.75122741\n",
      "   0.31358241  0.10104013 -0.09260469 -0.11925904]\n",
      " [-0.34811653  0.3079775   0.34400872  0.11394361 -0.10649223  0.32986776\n",
      "   0.05509008 -0.32520012  0.46238299 -0.45814648]\n",
      " [-0.29454003 -0.66054805  0.30903705 -0.16418078  0.24752302  0.04648673\n",
      "  -0.2394105  -0.32836927  0.16263075  0.31534429]\n",
      " [-0.36601696  0.4769409  -0.08382718  0.15530076  0.04631442 -0.20468167\n",
      "  -0.58210152  0.13210523  0.16860938  0.42267119]\n",
      " [-0.3135048  -0.23949071  0.04253854  0.38383416 -0.59753613  0.40323796\n",
      "  -0.02800053  0.22059419 -0.32276126  0.14815472]\n",
      " [-0.2430838   0.27000639 -0.05134591 -0.64772875 -0.15503673  0.23960138\n",
      "   0.41862828 -0.02566453 -0.00955963  0.43401955]\n",
      " [-0.3932126  -0.06265564  0.01596145 -0.10592092  0.53700403  0.22321976\n",
      "   0.04292737  0.63470004 -0.106922   -0.27507182]\n",
      " [-0.23430626 -0.30265949 -0.72749455 -0.02440637 -0.18385854 -0.10738062\n",
      "   0.07998534  0.05306326  0.50093235 -0.13480608]\n",
      " [-0.18674014  0.08833869 -0.1928685   0.56026022  0.41667457  0.02353036\n",
      "   0.50245622 -0.29679785 -0.10083375  0.28520971]]\n",
      "\n",
      "Column 0: Dot Product With Itself = 1 Is True\n",
      "Column 0: Dot Product With 1 = 0 Is True\n",
      "Column 0: Dot Product With 2 = 0 Is True\n",
      "Column 0: Dot Product With 3 = 0 Is True\n",
      "Column 0: Dot Product With 4 = 0 Is True\n",
      "Column 0: Dot Product With 5 = 0 Is True\n",
      "Column 0: Dot Product With 6 = 0 Is True\n",
      "Column 0: Dot Product With 7 = 0 Is True\n",
      "Column 0: Dot Product With 8 = 0 Is True\n",
      "Column 0: Dot Product With 9 = 0 Is True\n",
      "Column 1: Dot Product With Itself = 1 Is True\n",
      "Column 1: Dot Product With 2 = 0 Is True\n",
      "Column 1: Dot Product With 3 = 0 Is True\n",
      "Column 1: Dot Product With 4 = 0 Is True\n",
      "Column 1: Dot Product With 5 = 0 Is True\n",
      "Column 1: Dot Product With 6 = 0 Is True\n",
      "Column 1: Dot Product With 7 = 0 Is True\n",
      "Column 1: Dot Product With 8 = 0 Is True\n",
      "Column 1: Dot Product With 9 = 0 Is True\n",
      "Column 2: Dot Product With Itself = 1 Is True\n",
      "Column 2: Dot Product With 3 = 0 Is True\n",
      "Column 2: Dot Product With 4 = 0 Is True\n",
      "Column 2: Dot Product With 5 = 0 Is True\n",
      "Column 2: Dot Product With 6 = 0 Is True\n",
      "Column 2: Dot Product With 7 = 0 Is True\n",
      "Column 2: Dot Product With 8 = 0 Is True\n",
      "Column 2: Dot Product With 9 = 0 Is True\n",
      "Column 3: Dot Product With Itself = 1 Is True\n",
      "Column 3: Dot Product With 4 = 0 Is True\n",
      "Column 3: Dot Product With 5 = 0 Is True\n",
      "Column 3: Dot Product With 6 = 0 Is True\n",
      "Column 3: Dot Product With 7 = 0 Is True\n",
      "Column 3: Dot Product With 8 = 0 Is True\n",
      "Column 3: Dot Product With 9 = 0 Is True\n",
      "Column 4: Dot Product With Itself = 1 Is True\n",
      "Column 4: Dot Product With 5 = 0 Is True\n",
      "Column 4: Dot Product With 6 = 0 Is True\n",
      "Column 4: Dot Product With 7 = 0 Is True\n",
      "Column 4: Dot Product With 8 = 0 Is True\n",
      "Column 4: Dot Product With 9 = 0 Is True\n",
      "Column 5: Dot Product With Itself = 1 Is True\n",
      "Column 5: Dot Product With 6 = 0 Is True\n",
      "Column 5: Dot Product With 7 = 0 Is True\n",
      "Column 5: Dot Product With 8 = 0 Is True\n",
      "Column 5: Dot Product With 9 = 0 Is True\n",
      "Column 6: Dot Product With Itself = 1 Is True\n",
      "Column 6: Dot Product With 7 = 0 Is True\n",
      "Column 6: Dot Product With 8 = 0 Is True\n",
      "Column 6: Dot Product With 9 = 0 Is True\n",
      "Column 7: Dot Product With Itself = 1 Is True\n",
      "Column 7: Dot Product With 8 = 0 Is True\n",
      "Column 7: Dot Product With 9 = 0 Is True\n",
      "Column 8: Dot Product With Itself = 1 Is True\n",
      "Column 8: Dot Product With 9 = 0 Is True\n",
      "Column 9: Dot Product With Itself = 1 Is True\n"
     ]
    }
   ],
   "source": [
    "print(f\"MATRIX U: {u}\\n\")\n",
    "show_orthonormality(u)"
   ]
  },
  {
   "cell_type": "code",
   "execution_count": 14,
   "metadata": {},
   "outputs": [
    {
     "name": "stdout",
     "output_type": "stream",
     "text": [
      "MATRIX V: [[-0.457698    0.4019739  -0.1829935   0.7710481  -0.03045884]\n",
      " [-0.37968881  0.47891457 -0.51517818 -0.59365513  0.09296378]\n",
      " [-0.50493055 -0.41420274 -0.0135855  -0.11656918 -0.74813655]\n",
      " [-0.54138922  0.09006533  0.74727999 -0.17794927  0.32968565]\n",
      " [-0.31351523 -0.65527258 -0.37748228  0.08834084  0.56747606]]\n",
      "\n",
      "Column 0: Dot Product With Itself = 1 Is True\n",
      "Column 0: Dot Product With 1 = 0 Is True\n",
      "Column 0: Dot Product With 2 = 0 Is True\n",
      "Column 0: Dot Product With 3 = 0 Is True\n",
      "Column 0: Dot Product With 4 = 0 Is True\n",
      "Column 1: Dot Product With Itself = 1 Is True\n",
      "Column 1: Dot Product With 2 = 0 Is True\n",
      "Column 1: Dot Product With 3 = 0 Is True\n",
      "Column 1: Dot Product With 4 = 0 Is True\n",
      "Column 2: Dot Product With Itself = 1 Is True\n",
      "Column 2: Dot Product With 3 = 0 Is True\n",
      "Column 2: Dot Product With 4 = 0 Is True\n",
      "Column 3: Dot Product With Itself = 1 Is True\n",
      "Column 3: Dot Product With 4 = 0 Is True\n",
      "Column 4: Dot Product With Itself = 1 Is True\n"
     ]
    }
   ],
   "source": [
    "print(f\"MATRIX V: {vt.T}\\n\")\n",
    "show_orthonormality(vt.T)"
   ]
  },
  {
   "cell_type": "markdown",
   "metadata": {},
   "source": [
    "It follows naturally that $U^{-1} = U^{T}$ and $V^{-1} = V^{T}$"
   ]
  },
  {
   "cell_type": "code",
   "execution_count": 15,
   "metadata": {},
   "outputs": [
    {
     "data": {
      "text/plain": [
       "True"
      ]
     },
     "execution_count": 15,
     "metadata": {},
     "output_type": "execute_result"
    }
   ],
   "source": [
    "check_two_matricies_almost_equal(u.T @ u, np.identity(u.shape[0]))"
   ]
  },
  {
   "cell_type": "code",
   "execution_count": 16,
   "metadata": {},
   "outputs": [
    {
     "data": {
      "text/plain": [
       "True"
      ]
     },
     "execution_count": 16,
     "metadata": {},
     "output_type": "execute_result"
    }
   ],
   "source": [
    "check_two_matricies_almost_equal(u.T @ u, u @ u.T)"
   ]
  },
  {
   "cell_type": "code",
   "execution_count": 17,
   "metadata": {},
   "outputs": [
    {
     "data": {
      "text/plain": [
       "True"
      ]
     },
     "execution_count": 17,
     "metadata": {},
     "output_type": "execute_result"
    }
   ],
   "source": [
    "check_two_matricies_almost_equal(vt.T @ vt, np.identity(vt.shape[0]))"
   ]
  },
  {
   "cell_type": "code",
   "execution_count": 18,
   "metadata": {},
   "outputs": [
    {
     "data": {
      "text/plain": [
       "True"
      ]
     },
     "execution_count": 18,
     "metadata": {},
     "output_type": "execute_result"
    }
   ],
   "source": [
    "check_two_matricies_almost_equal(vt.T @ vt, vt @ vt.T)"
   ]
  },
  {
   "cell_type": "markdown",
   "metadata": {},
   "source": [
    "For a matrix, $X$ of rank $k$ with SVD $U \\times \\Sigma \\times V^{T}$:\n",
    "\n",
    "__Column Space__:\n",
    "* The first $k$ columns of U, $ \\{ \\overrightarrow{u}_{0}, \\overrightarrow{u}_{1}, ..., \\overrightarrow{u}_{k-1} \\}$ are known as the left singular vectors of X\n",
    "    * They form an orthonormal basis of the column space of X\n",
    "    * Likewise, they are an orthonormal basis of the eigenspace of the matrix $X \\times X^{T}$\n",
    "    \n",
    "__Row Space__:\n",
    "* The first $k$ columns of $V$ (or the first $k$ rows of $V^{T}$), $ \\{ \\overrightarrow{v}_{0}, \\overrightarrow{v}_{1}, ..., \\overrightarrow{v}_{k-1} \\}$, are known as the right singular vectors of X\n",
    "    * They form an orthonormal basis of the row space of X\n",
    "    * Likewise, they are an orthonormal basis of the eigenspace of the matrix $X^{T} \\times X$- which is also known as the \"covariance\" matrix of X\n",
    "    \n",
    "__Null Space__:\n",
    "* The remaining $m - k$ columns of $V$, $ \\{ \\overrightarrow{v}_{k}, \\overrightarrow{v}_{k+1}, ..., \\overrightarrow{v}_{m-1} \\}$, provide an orthonormal basis of of the null space of X (rows of X)\n",
    "    * Therefore, $\\forall \\overrightarrow{v}_{i} \\in \\{ \\overrightarrow{v}_{k}, \\overrightarrow{v}_{k+1}, ..., \\overrightarrow{v}_{m-1} \\} \\rightarrow X \\times \\overrightarrow{v}_{i} = \\overrightarrow{0} $"
   ]
  },
  {
   "cell_type": "markdown",
   "metadata": {},
   "source": [
    "__Applications of SVD:__\n",
    "* The SVD has many applications such as:\n",
    "    * Low rank matrix approximation & data compression\n",
    "    * Solving for the inverse or psuedo-inverse of a matrix\n",
    "    * Solving OLS Regression Problems\n",
    "    * Solving A System of Linear Equations\n",
    "    * Etc."
   ]
  },
  {
   "cell_type": "markdown",
   "metadata": {},
   "source": [
    "__References__:\n",
    "*  http://pillowlab.princeton.edu/teaching/statneuro2018/slides/notes03a_SVDandLinSys.pdf\n",
    "*  https://www.johndcook.com/blog/2018/05/05/svd/"
   ]
  },
  {
   "cell_type": "code",
   "execution_count": null,
   "metadata": {},
   "outputs": [],
   "source": []
  }
 ],
 "metadata": {
  "kernelspec": {
   "display_name": "py_37_env",
   "language": "python",
   "name": "py_37_env"
  },
  "language_info": {
   "codemirror_mode": {
    "name": "ipython",
    "version": 3
   },
   "file_extension": ".py",
   "mimetype": "text/x-python",
   "name": "python",
   "nbconvert_exporter": "python",
   "pygments_lexer": "ipython3",
   "version": "3.7.3"
  }
 },
 "nbformat": 4,
 "nbformat_minor": 2
}
